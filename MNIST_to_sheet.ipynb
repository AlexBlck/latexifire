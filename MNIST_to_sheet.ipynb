{
 "cells": [
  {
   "cell_type": "code",
   "execution_count": 24,
   "metadata": {
    "_cell_guid": "b1076dfc-b9ad-4769-8c92-a6c4dae69d19",
    "_uuid": "8f2839f25d086af736a60e9eeb907d3b93b6e0e5"
   },
   "outputs": [
    {
     "name": "stdout",
     "output_type": "stream",
     "text": [
      "['emnist-digits-test.csv', 'emnist-digits-train.csv', 'emnist-bymerge-train.csv', 'emnist-letters-mapping.txt', 'emnist-digits-mapping.txt', 'emnist-balanced-test.csv', 'emnist-byclass-train.csv', 'emnist-letters-test.csv', 'emnist-balanced-train.csv', 'emnist-mnist-test.csv', 'output', 'emnist-balanced-mapping.txt', 'emnist-mnist-mapping.txt', 'emnist-bymerge-mapping.txt', 'emnist-byclass-test.csv', 'emnist_source_files.zip', 'emnist-letters-train.csv', 'emnist-bymerge-test.csv', 'emnist-mnist-train.csv', 'emnist-byclass-mapping.txt']\n"
     ]
    }
   ],
   "source": [
    "# This Python 3 environment comes with many helpful analytics libraries installed\n",
    "# It is defined by the kaggle/python docker image: https://github.com/kaggle/docker-python\n",
    "# For example, here's several helpful packages to load in \n",
    "\n",
    "import numpy as np # linear algebra\n",
    "import pandas as pd # data processing, CSV file I/O (e.g. pd.read_csv)\n",
    "\n",
    "# Input data files are available in the \"../input/\" directory.\n",
    "# For example, running this (by clicking run or pressing Shift+Enter) will list the files in the input directory\n",
    "\n",
    "import os\n",
    "\n",
    "IMG_WIDTH = 28\n",
    "IMG_HEIGHT = 28\n",
    "INPUT = '/home/alex/projects/LaTeXiFire/EMNIST/emnist/'\n",
    "OUTPUT = '/home/alex/projects/LaTeXiFire/EMNIST/emnist/output/'\n",
    "\n",
    "print(os.listdir(INPUT))\n",
    "\n",
    "# Any results you write to the current directory are saved as output."
   ]
  },
  {
   "cell_type": "code",
   "execution_count": 32,
   "metadata": {
    "_cell_guid": "79c7e3d0-c299-4dcb-8224-4455121ee9b0",
    "_uuid": "d629ff2d2480ee46fbb7e2d37f6b5fab8052498a"
   },
   "outputs": [],
   "source": [
    "from PIL import Image, ImageOps\n",
    "from random import randint"
   ]
  },
  {
   "cell_type": "code",
   "execution_count": 26,
   "metadata": {
    "_uuid": "c329e47c2969a9acd027f8219bb42bd1d8779ead"
   },
   "outputs": [],
   "source": [
    "mnist_test = pd.read_csv(INPUT + 'emnist-mnist-test.csv') # len 9999\n",
    "mnist_train = pd.read_csv(INPUT + 'emnist-mnist-train.csv') # len 59999"
   ]
  },
  {
   "cell_type": "code",
   "execution_count": 30,
   "metadata": {
    "_uuid": "334123e844bc2b4a79fd26ac03a3338fde7b8ec5"
   },
   "outputs": [],
   "source": [
    "def csv_to_images(csv_file):\n",
    "    for i, image in enumerate(csv_file.values):\n",
    "        \n",
    "        label = image[0]\n",
    "        image = image[1:]\n",
    "        \n",
    "        # Rotate image into right orientation\n",
    "        indices = [IMG_HEIGHT*y + x for x in range(IMG_WIDTH) for y in range(IMG_HEIGHT)]\n",
    "        image = image[indices]\n",
    "        image = image.reshape(28,28)\n",
    "        \n",
    "        # Covert to PIL and save\n",
    "        im = Image.fromarray(np.uint8(image))\n",
    "        im.save(OUTPUT+'/'+str(label)+'/'+str(i)+'.png')"
   ]
  },
  {
   "cell_type": "code",
   "execution_count": 266,
   "metadata": {
    "_uuid": "a0dc323321810d1526bdf393393a52039fb08526",
    "scrolled": true
   },
   "outputs": [],
   "source": [
    "def create_images(csv_file, num_of_images):\n",
    "    for i in range(num_of_images):\n",
    "        \n",
    "        image = Image.new('L', (595, 845), color=0)\n",
    "        textfile = open(str(i)+'.txt', 'w')\n",
    "        w,h = 0,0\n",
    "        while h < 797:\n",
    "            if w < 567:\n",
    "                symbol = csv_file.values[randint(0, len(csv_file.values))]\n",
    "\n",
    "                label = symbol[0]\n",
    "                symbol = symbol[1:]\n",
    "\n",
    "                # Rotate symbol into right orientation\n",
    "                indices = [IMG_HEIGHT*y + x for x in range(IMG_WIDTH) for y in range(IMG_HEIGHT)]\n",
    "                symbol = symbol[indices]\n",
    "                symbol = symbol.reshape(28,28)\n",
    "\n",
    "                # Attach symbol to image with random location\n",
    "                symbol = Image.fromarray(np.uint8(symbol))\n",
    "                location = (w, h)\n",
    "                image.paste(symbol, location)\n",
    "                textfile.write(str(label)+' '+ str(location)+'\\n')\n",
    "                w += randint(0,100) + 28\n",
    "            else:\n",
    "                h += randint(0,10) + 28\n",
    "                w = 0\n",
    "            h += randint(0,1)*randint(0,1)*28 + randint(0,5)*randint(0,1)\n",
    "        image.save(OUTPUT+str(i)+'.png')\n",
    "        image.close()\n",
    "        "
   ]
  },
  {
   "cell_type": "code",
   "execution_count": 267,
   "metadata": {
    "_uuid": "e1bbd2d2a89c13fce59203f49e7037e2ef89b6ce"
   },
   "outputs": [],
   "source": [
    "create_images(mnist_train, 1)"
   ]
  },
  {
   "cell_type": "code",
   "execution_count": null,
   "metadata": {
    "_uuid": "5fe24451e070e1a18dbb17787a1c4a6986e50ffe"
   },
   "outputs": [],
   "source": []
  },
  {
   "cell_type": "code",
   "execution_count": 181,
   "metadata": {},
   "outputs": [],
   "source": [
    "grid = [(h,w) for h in range(0,840,28) for w in range(0,588,28)]"
   ]
  },
  {
   "cell_type": "code",
   "execution_count": 182,
   "metadata": {},
   "outputs": [
    {
     "data": {
      "text/plain": [
       "(812, 560)"
      ]
     },
     "execution_count": 182,
     "metadata": {},
     "output_type": "execute_result"
    }
   ],
   "source": [
    "max(grid)"
   ]
  },
  {
   "cell_type": "code",
   "execution_count": 145,
   "metadata": {},
   "outputs": [
    {
     "data": {
      "text/plain": [
       "[392, 0]"
      ]
     },
     "execution_count": 145,
     "metadata": {},
     "output_type": "execute_result"
    }
   ],
   "source": [
    "grid[308]"
   ]
  },
  {
   "cell_type": "code",
   "execution_count": null,
   "metadata": {},
   "outputs": [],
   "source": [
    "height_ind = 0\n"
   ]
  }
 ],
 "metadata": {
  "kernelspec": {
   "display_name": "Python 3",
   "language": "python",
   "name": "python3"
  },
  "language_info": {
   "codemirror_mode": {
    "name": "ipython",
    "version": 3
   },
   "file_extension": ".py",
   "mimetype": "text/x-python",
   "name": "python",
   "nbconvert_exporter": "python",
   "pygments_lexer": "ipython3",
   "version": "3.6.6"
  }
 },
 "nbformat": 4,
 "nbformat_minor": 1
}
